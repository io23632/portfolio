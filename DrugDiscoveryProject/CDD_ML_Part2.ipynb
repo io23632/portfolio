{
 "cells": [
  {
   "cell_type": "markdown",
   "metadata": {},
   "source": [
    "# **Bioinformatics Project - Computational Drug Discovery [Part 2] : Exploratory Data Analysis**"
   ]
  },
  {
   "cell_type": "markdown",
   "metadata": {},
   "source": [
    "Hamza Ahmed\n",
    "\n",
    "---"
   ]
  },
  {
   "cell_type": "markdown",
   "metadata": {},
   "source": [
    "Here, I will be looking at performing Descriptor Calculation and EDA for the 3C-Proteinase molacule we downloaded in Part 1"
   ]
  },
  {
   "cell_type": "markdown",
   "metadata": {},
   "source": [
    "### **Install rdkit**\n",
    "\n",
    "The rdkit tool kit allows you compute the molecular descriptors for the molecules we downloaded in the previous part. Molecular descriptors for a given drug can describe the No. of Hydrogen bonds donors, No. of Hydrogen bonds acceptors the electricalchrges for the atom, conformational flexibility for rotatotable chemical bonds etc. \n"
   ]
  },
  {
   "cell_type": "code",
   "execution_count": 19,
   "metadata": {},
   "outputs": [
    {
     "name": "stdout",
     "output_type": "stream",
     "text": [
      "Channels:\n",
      " - rdkit\n",
      " - defaults\n",
      " - conda-forge\n",
      "Platform: osx-arm64\n",
      "Collecting package metadata (repodata.json): done\n",
      "Solving environment: done\n",
      "\n",
      "# All requested packages already installed.\n",
      "\n"
     ]
    }
   ],
   "source": [
    "# ! conda install -c rdkit rdkit -y"
   ]
  },
  {
   "cell_type": "markdown",
   "metadata": {},
   "source": [
    "### **Import Libraries**"
   ]
  },
  {
   "cell_type": "code",
   "execution_count": 20,
   "metadata": {},
   "outputs": [],
   "source": [
    "import pandas as pd\n",
    "import numpy as np\n",
    "from rdkit import Chem\n",
    "from rdkit.Chem import Descriptors, Lipinski"
   ]
  },
  {
   "cell_type": "markdown",
   "metadata": {},
   "source": [
    "### **Lipinski's Descriptors**\n",
    "\n",
    "Christopher Lipinski came up with a rule of 5 for calculating the *druglikeness* of compounds. Such druglikeness is based on the `Absoption`, `Distrabition`, `Metabolism`, and `Excretion` (ADME) that is also known as the pharmacokinetic profile. Lipinski analysed all orally active FDA-approved drugs in the formulation of what is to be known as the *Rule of 5* or *Lipinski's rule*\n",
    "\n",
    "The Rule of 5 are: \n",
    "- Molecular weight < 500 Dalton\n",
    "- Octanol-water partition coefficiant (LogP) < 5\n",
    "- Hydrogen bond donors < 5 (The number of N-H and O-H bonds)\n",
    "- Hydrogen bond acceptors <  10 (The number of N and O bonds)"
   ]
  },
  {
   "cell_type": "code",
   "execution_count": 21,
   "metadata": {},
   "outputs": [],
   "source": [
    "df = pd.read_csv('data/3C-proteinase_processed_date.csv')"
   ]
  },
  {
   "cell_type": "markdown",
   "metadata": {},
   "source": [
    "### **Calculate descriptors**"
   ]
  },
  {
   "cell_type": "code",
   "execution_count": 22,
   "metadata": {},
   "outputs": [],
   "source": [
    "\"\"\" \n",
    "Here  we define a custome function which takes in the smiles \n",
    "notation (the chemical structuer of the compounds) and returns a dataframe of Lipinski's rule of 5 descriptors\n",
    "\"\"\"\n",
    "\n",
    "def lipinski(smiles, verbose=False):\n",
    "    \n",
    "    #Extract the individual elements of each molacule \n",
    "    moldata = []\n",
    "    for element in smiles: \n",
    "        mol = Chem.MolFromSmiles(element)\n",
    "        moldata.append(mol)\n",
    "        if verbose:\n",
    "            print(f\"Processed SMILES: {element}\")\n",
    "    \n",
    "    # Create an empty NumPy array \n",
    "    baseData = np.array([])\n",
    "    #initalise counter for each molacule\n",
    "    i=0\n",
    "    for mol in moldata:\n",
    "        \n",
    "        mol_wt = Descriptors.MolWt(mol)\n",
    "        mol_wt = round(mol_wt, 3)\n",
    "        mol_logP = Descriptors.MolLogP(mol)\n",
    "        mol_logP = round(mol_logP, 3)\n",
    "        mol_NumHDonors = Lipinski.NumHDonors(mol)\n",
    "        mol_NumHAcceptors = Lipinski.NumHAcceptors(mol)\n",
    "        \n",
    "        if verbose: \n",
    "            print(f\"Descriptors for molecule {i}: MW = {mol_wt}, LogP = {mol_logP}, NumHDonors = {mol_NumHDonors}, NumHAcceptors = {mol_NumHAcceptors}\")\n",
    "        \n",
    "        # define the row for the data frame:\n",
    "        row = np.array([mol_wt, mol_logP, mol_NumHDonors, mol_NumHAcceptors])\n",
    "        \n",
    "        # Create stacked rows of descriptors\n",
    "        if (i==0):\n",
    "            baseData = row\n",
    "        else:\n",
    "            baseData = np.vstack([baseData, row])\n",
    "        i += 1 \n",
    "        \n",
    "    # create the data frame: \n",
    "    columnNames = [\"MW\", \"LogP\", \"NumHDonors\", \"NumHAcceptors\"]\n",
    "    descriptors_df = pd.DataFrame(data=baseData, columns=columnNames)\n",
    "    \n",
    "    return descriptors_df"
   ]
  },
  {
   "cell_type": "code",
   "execution_count": 23,
   "metadata": {},
   "outputs": [
    {
     "data": {
      "text/html": [
       "<div>\n",
       "<style scoped>\n",
       "    .dataframe tbody tr th:only-of-type {\n",
       "        vertical-align: middle;\n",
       "    }\n",
       "\n",
       "    .dataframe tbody tr th {\n",
       "        vertical-align: top;\n",
       "    }\n",
       "\n",
       "    .dataframe thead th {\n",
       "        text-align: right;\n",
       "    }\n",
       "</style>\n",
       "<table border=\"1\" class=\"dataframe\">\n",
       "  <thead>\n",
       "    <tr style=\"text-align: right;\">\n",
       "      <th></th>\n",
       "      <th>MW</th>\n",
       "      <th>LogP</th>\n",
       "      <th>NumHDonors</th>\n",
       "      <th>NumHAcceptors</th>\n",
       "    </tr>\n",
       "  </thead>\n",
       "  <tbody>\n",
       "    <tr>\n",
       "      <th>0</th>\n",
       "      <td>281.271</td>\n",
       "      <td>1.893</td>\n",
       "      <td>0.0</td>\n",
       "      <td>5.0</td>\n",
       "    </tr>\n",
       "    <tr>\n",
       "      <th>1</th>\n",
       "      <td>415.589</td>\n",
       "      <td>3.813</td>\n",
       "      <td>0.0</td>\n",
       "      <td>2.0</td>\n",
       "    </tr>\n",
       "    <tr>\n",
       "      <th>2</th>\n",
       "      <td>421.190</td>\n",
       "      <td>2.661</td>\n",
       "      <td>0.0</td>\n",
       "      <td>4.0</td>\n",
       "    </tr>\n",
       "    <tr>\n",
       "      <th>3</th>\n",
       "      <td>293.347</td>\n",
       "      <td>3.631</td>\n",
       "      <td>0.0</td>\n",
       "      <td>3.0</td>\n",
       "    </tr>\n",
       "    <tr>\n",
       "      <th>4</th>\n",
       "      <td>338.344</td>\n",
       "      <td>3.539</td>\n",
       "      <td>0.0</td>\n",
       "      <td>5.0</td>\n",
       "    </tr>\n",
       "    <tr>\n",
       "      <th>...</th>\n",
       "      <td>...</td>\n",
       "      <td>...</td>\n",
       "      <td>...</td>\n",
       "      <td>...</td>\n",
       "    </tr>\n",
       "    <tr>\n",
       "      <th>128</th>\n",
       "      <td>338.359</td>\n",
       "      <td>3.401</td>\n",
       "      <td>0.0</td>\n",
       "      <td>5.0</td>\n",
       "    </tr>\n",
       "    <tr>\n",
       "      <th>129</th>\n",
       "      <td>296.366</td>\n",
       "      <td>3.443</td>\n",
       "      <td>0.0</td>\n",
       "      <td>3.0</td>\n",
       "    </tr>\n",
       "    <tr>\n",
       "      <th>130</th>\n",
       "      <td>276.291</td>\n",
       "      <td>4.096</td>\n",
       "      <td>0.0</td>\n",
       "      <td>3.0</td>\n",
       "    </tr>\n",
       "    <tr>\n",
       "      <th>131</th>\n",
       "      <td>278.307</td>\n",
       "      <td>3.291</td>\n",
       "      <td>0.0</td>\n",
       "      <td>3.0</td>\n",
       "    </tr>\n",
       "    <tr>\n",
       "      <th>132</th>\n",
       "      <td>282.383</td>\n",
       "      <td>4.105</td>\n",
       "      <td>0.0</td>\n",
       "      <td>2.0</td>\n",
       "    </tr>\n",
       "  </tbody>\n",
       "</table>\n",
       "<p>133 rows × 4 columns</p>\n",
       "</div>"
      ],
      "text/plain": [
       "          MW   LogP  NumHDonors  NumHAcceptors\n",
       "0    281.271  1.893         0.0            5.0\n",
       "1    415.589  3.813         0.0            2.0\n",
       "2    421.190  2.661         0.0            4.0\n",
       "3    293.347  3.631         0.0            3.0\n",
       "4    338.344  3.539         0.0            5.0\n",
       "..       ...    ...         ...            ...\n",
       "128  338.359  3.401         0.0            5.0\n",
       "129  296.366  3.443         0.0            3.0\n",
       "130  276.291  4.096         0.0            3.0\n",
       "131  278.307  3.291         0.0            3.0\n",
       "132  282.383  4.105         0.0            2.0\n",
       "\n",
       "[133 rows x 4 columns]"
      ]
     },
     "execution_count": 23,
     "metadata": {},
     "output_type": "execute_result"
    }
   ],
   "source": [
    "df_lipinski_descriptors = lipinski(df.cannonical_smiles, False)\n",
    "df_lipinski_descriptors"
   ]
  },
  {
   "cell_type": "code",
   "execution_count": 24,
   "metadata": {},
   "outputs": [
    {
     "data": {
      "text/html": [
       "<div>\n",
       "<style scoped>\n",
       "    .dataframe tbody tr th:only-of-type {\n",
       "        vertical-align: middle;\n",
       "    }\n",
       "\n",
       "    .dataframe tbody tr th {\n",
       "        vertical-align: top;\n",
       "    }\n",
       "\n",
       "    .dataframe thead th {\n",
       "        text-align: right;\n",
       "    }\n",
       "</style>\n",
       "<table border=\"1\" class=\"dataframe\">\n",
       "  <thead>\n",
       "    <tr style=\"text-align: right;\">\n",
       "      <th></th>\n",
       "      <th>mol_id</th>\n",
       "      <th>cannonical_smiles</th>\n",
       "      <th>standard_value</th>\n",
       "      <th>bioactivity_class</th>\n",
       "    </tr>\n",
       "  </thead>\n",
       "  <tbody>\n",
       "    <tr>\n",
       "      <th>0</th>\n",
       "      <td>CHEMBL187579</td>\n",
       "      <td>Cc1noc(C)c1CN1C(=O)C(=O)c2cc(C#N)ccc21</td>\n",
       "      <td>7200.0</td>\n",
       "      <td>intermediate</td>\n",
       "    </tr>\n",
       "    <tr>\n",
       "      <th>1</th>\n",
       "      <td>CHEMBL188487</td>\n",
       "      <td>O=C1C(=O)N(Cc2ccc(F)cc2Cl)c2ccc(I)cc21</td>\n",
       "      <td>9400.0</td>\n",
       "      <td>intermediate</td>\n",
       "    </tr>\n",
       "    <tr>\n",
       "      <th>2</th>\n",
       "      <td>CHEMBL185698</td>\n",
       "      <td>O=C1C(=O)N(CC2COc3ccccc3O2)c2ccc(I)cc21</td>\n",
       "      <td>13500.0</td>\n",
       "      <td>inactive</td>\n",
       "    </tr>\n",
       "    <tr>\n",
       "      <th>3</th>\n",
       "      <td>CHEMBL426082</td>\n",
       "      <td>O=C1C(=O)N(Cc2cc3ccccc3s2)c2ccccc21</td>\n",
       "      <td>13110.0</td>\n",
       "      <td>inactive</td>\n",
       "    </tr>\n",
       "    <tr>\n",
       "      <th>4</th>\n",
       "      <td>CHEMBL187717</td>\n",
       "      <td>O=C1C(=O)N(Cc2cc3ccccc3s2)c2c1cccc2[N+](=O)[O-]</td>\n",
       "      <td>2000.0</td>\n",
       "      <td>intermediate</td>\n",
       "    </tr>\n",
       "    <tr>\n",
       "      <th>...</th>\n",
       "      <td>...</td>\n",
       "      <td>...</td>\n",
       "      <td>...</td>\n",
       "      <td>...</td>\n",
       "    </tr>\n",
       "    <tr>\n",
       "      <th>128</th>\n",
       "      <td>CHEMBL2146517</td>\n",
       "      <td>COC(=O)[C@@]1(C)CCCc2c1ccc1c2C(=O)C(=O)c2c(C)c...</td>\n",
       "      <td>10600.0</td>\n",
       "      <td>inactive</td>\n",
       "    </tr>\n",
       "    <tr>\n",
       "      <th>129</th>\n",
       "      <td>CHEMBL187460</td>\n",
       "      <td>C[C@H]1COC2=C1C(=O)C(=O)c1c2ccc2c1CCCC2(C)C</td>\n",
       "      <td>10100.0</td>\n",
       "      <td>inactive</td>\n",
       "    </tr>\n",
       "    <tr>\n",
       "      <th>130</th>\n",
       "      <td>CHEMBL363535</td>\n",
       "      <td>Cc1coc2c1C(=O)C(=O)c1c-2ccc2c(C)cccc12</td>\n",
       "      <td>11500.0</td>\n",
       "      <td>inactive</td>\n",
       "    </tr>\n",
       "    <tr>\n",
       "      <th>131</th>\n",
       "      <td>CHEMBL227075</td>\n",
       "      <td>Cc1cccc2c3c(ccc12)C1=C(C(=O)C3=O)[C@@H](C)CO1</td>\n",
       "      <td>10700.0</td>\n",
       "      <td>inactive</td>\n",
       "    </tr>\n",
       "    <tr>\n",
       "      <th>132</th>\n",
       "      <td>CHEMBL45830</td>\n",
       "      <td>CC(C)C1=Cc2ccc3c(c2C(=O)C1=O)CCCC3(C)C</td>\n",
       "      <td>78900.0</td>\n",
       "      <td>inactive</td>\n",
       "    </tr>\n",
       "  </tbody>\n",
       "</table>\n",
       "<p>133 rows × 4 columns</p>\n",
       "</div>"
      ],
      "text/plain": [
       "            mol_id                                  cannonical_smiles  \\\n",
       "0     CHEMBL187579             Cc1noc(C)c1CN1C(=O)C(=O)c2cc(C#N)ccc21   \n",
       "1     CHEMBL188487             O=C1C(=O)N(Cc2ccc(F)cc2Cl)c2ccc(I)cc21   \n",
       "2     CHEMBL185698            O=C1C(=O)N(CC2COc3ccccc3O2)c2ccc(I)cc21   \n",
       "3     CHEMBL426082                O=C1C(=O)N(Cc2cc3ccccc3s2)c2ccccc21   \n",
       "4     CHEMBL187717    O=C1C(=O)N(Cc2cc3ccccc3s2)c2c1cccc2[N+](=O)[O-]   \n",
       "..             ...                                                ...   \n",
       "128  CHEMBL2146517  COC(=O)[C@@]1(C)CCCc2c1ccc1c2C(=O)C(=O)c2c(C)c...   \n",
       "129   CHEMBL187460        C[C@H]1COC2=C1C(=O)C(=O)c1c2ccc2c1CCCC2(C)C   \n",
       "130   CHEMBL363535             Cc1coc2c1C(=O)C(=O)c1c-2ccc2c(C)cccc12   \n",
       "131   CHEMBL227075      Cc1cccc2c3c(ccc12)C1=C(C(=O)C3=O)[C@@H](C)CO1   \n",
       "132    CHEMBL45830             CC(C)C1=Cc2ccc3c(c2C(=O)C1=O)CCCC3(C)C   \n",
       "\n",
       "     standard_value bioactivity_class  \n",
       "0            7200.0      intermediate  \n",
       "1            9400.0      intermediate  \n",
       "2           13500.0          inactive  \n",
       "3           13110.0          inactive  \n",
       "4            2000.0      intermediate  \n",
       "..              ...               ...  \n",
       "128         10600.0          inactive  \n",
       "129         10100.0          inactive  \n",
       "130         11500.0          inactive  \n",
       "131         10700.0          inactive  \n",
       "132         78900.0          inactive  \n",
       "\n",
       "[133 rows x 4 columns]"
      ]
     },
     "execution_count": 24,
     "metadata": {},
     "output_type": "execute_result"
    }
   ],
   "source": [
    "df"
   ]
  },
  {
   "cell_type": "markdown",
   "metadata": {},
   "source": [
    "**Combine Data Sets**\n",
    "<br>\n",
    "<br>\n",
    "We have two data sets: df (The processed data from part 1) df_lipinski_descriptors (containing the lipinski descriptors for each molacule)\n",
    "\n",
    "Lets combine the two data sets"
   ]
  },
  {
   "cell_type": "code",
   "execution_count": 25,
   "metadata": {},
   "outputs": [],
   "source": [
    "# The two different data sets contain different information so we are concating using axis=1\n",
    "df_combined = pd.concat([df, df_lipinski_descriptors], axis=1)"
   ]
  },
  {
   "cell_type": "code",
   "execution_count": 26,
   "metadata": {},
   "outputs": [
    {
     "data": {
      "text/html": [
       "<div>\n",
       "<style scoped>\n",
       "    .dataframe tbody tr th:only-of-type {\n",
       "        vertical-align: middle;\n",
       "    }\n",
       "\n",
       "    .dataframe tbody tr th {\n",
       "        vertical-align: top;\n",
       "    }\n",
       "\n",
       "    .dataframe thead th {\n",
       "        text-align: right;\n",
       "    }\n",
       "</style>\n",
       "<table border=\"1\" class=\"dataframe\">\n",
       "  <thead>\n",
       "    <tr style=\"text-align: right;\">\n",
       "      <th></th>\n",
       "      <th>mol_id</th>\n",
       "      <th>cannonical_smiles</th>\n",
       "      <th>standard_value</th>\n",
       "      <th>bioactivity_class</th>\n",
       "      <th>MW</th>\n",
       "      <th>LogP</th>\n",
       "      <th>NumHDonors</th>\n",
       "      <th>NumHAcceptors</th>\n",
       "    </tr>\n",
       "  </thead>\n",
       "  <tbody>\n",
       "    <tr>\n",
       "      <th>0</th>\n",
       "      <td>CHEMBL187579</td>\n",
       "      <td>Cc1noc(C)c1CN1C(=O)C(=O)c2cc(C#N)ccc21</td>\n",
       "      <td>7200.0</td>\n",
       "      <td>intermediate</td>\n",
       "      <td>281.271</td>\n",
       "      <td>1.893</td>\n",
       "      <td>0.0</td>\n",
       "      <td>5.0</td>\n",
       "    </tr>\n",
       "    <tr>\n",
       "      <th>1</th>\n",
       "      <td>CHEMBL188487</td>\n",
       "      <td>O=C1C(=O)N(Cc2ccc(F)cc2Cl)c2ccc(I)cc21</td>\n",
       "      <td>9400.0</td>\n",
       "      <td>intermediate</td>\n",
       "      <td>415.589</td>\n",
       "      <td>3.813</td>\n",
       "      <td>0.0</td>\n",
       "      <td>2.0</td>\n",
       "    </tr>\n",
       "    <tr>\n",
       "      <th>2</th>\n",
       "      <td>CHEMBL185698</td>\n",
       "      <td>O=C1C(=O)N(CC2COc3ccccc3O2)c2ccc(I)cc21</td>\n",
       "      <td>13500.0</td>\n",
       "      <td>inactive</td>\n",
       "      <td>421.190</td>\n",
       "      <td>2.661</td>\n",
       "      <td>0.0</td>\n",
       "      <td>4.0</td>\n",
       "    </tr>\n",
       "    <tr>\n",
       "      <th>3</th>\n",
       "      <td>CHEMBL426082</td>\n",
       "      <td>O=C1C(=O)N(Cc2cc3ccccc3s2)c2ccccc21</td>\n",
       "      <td>13110.0</td>\n",
       "      <td>inactive</td>\n",
       "      <td>293.347</td>\n",
       "      <td>3.631</td>\n",
       "      <td>0.0</td>\n",
       "      <td>3.0</td>\n",
       "    </tr>\n",
       "    <tr>\n",
       "      <th>4</th>\n",
       "      <td>CHEMBL187717</td>\n",
       "      <td>O=C1C(=O)N(Cc2cc3ccccc3s2)c2c1cccc2[N+](=O)[O-]</td>\n",
       "      <td>2000.0</td>\n",
       "      <td>intermediate</td>\n",
       "      <td>338.344</td>\n",
       "      <td>3.539</td>\n",
       "      <td>0.0</td>\n",
       "      <td>5.0</td>\n",
       "    </tr>\n",
       "    <tr>\n",
       "      <th>...</th>\n",
       "      <td>...</td>\n",
       "      <td>...</td>\n",
       "      <td>...</td>\n",
       "      <td>...</td>\n",
       "      <td>...</td>\n",
       "      <td>...</td>\n",
       "      <td>...</td>\n",
       "      <td>...</td>\n",
       "    </tr>\n",
       "    <tr>\n",
       "      <th>128</th>\n",
       "      <td>CHEMBL2146517</td>\n",
       "      <td>COC(=O)[C@@]1(C)CCCc2c1ccc1c2C(=O)C(=O)c2c(C)c...</td>\n",
       "      <td>10600.0</td>\n",
       "      <td>inactive</td>\n",
       "      <td>338.359</td>\n",
       "      <td>3.401</td>\n",
       "      <td>0.0</td>\n",
       "      <td>5.0</td>\n",
       "    </tr>\n",
       "    <tr>\n",
       "      <th>129</th>\n",
       "      <td>CHEMBL187460</td>\n",
       "      <td>C[C@H]1COC2=C1C(=O)C(=O)c1c2ccc2c1CCCC2(C)C</td>\n",
       "      <td>10100.0</td>\n",
       "      <td>inactive</td>\n",
       "      <td>296.366</td>\n",
       "      <td>3.443</td>\n",
       "      <td>0.0</td>\n",
       "      <td>3.0</td>\n",
       "    </tr>\n",
       "    <tr>\n",
       "      <th>130</th>\n",
       "      <td>CHEMBL363535</td>\n",
       "      <td>Cc1coc2c1C(=O)C(=O)c1c-2ccc2c(C)cccc12</td>\n",
       "      <td>11500.0</td>\n",
       "      <td>inactive</td>\n",
       "      <td>276.291</td>\n",
       "      <td>4.096</td>\n",
       "      <td>0.0</td>\n",
       "      <td>3.0</td>\n",
       "    </tr>\n",
       "    <tr>\n",
       "      <th>131</th>\n",
       "      <td>CHEMBL227075</td>\n",
       "      <td>Cc1cccc2c3c(ccc12)C1=C(C(=O)C3=O)[C@@H](C)CO1</td>\n",
       "      <td>10700.0</td>\n",
       "      <td>inactive</td>\n",
       "      <td>278.307</td>\n",
       "      <td>3.291</td>\n",
       "      <td>0.0</td>\n",
       "      <td>3.0</td>\n",
       "    </tr>\n",
       "    <tr>\n",
       "      <th>132</th>\n",
       "      <td>CHEMBL45830</td>\n",
       "      <td>CC(C)C1=Cc2ccc3c(c2C(=O)C1=O)CCCC3(C)C</td>\n",
       "      <td>78900.0</td>\n",
       "      <td>inactive</td>\n",
       "      <td>282.383</td>\n",
       "      <td>4.105</td>\n",
       "      <td>0.0</td>\n",
       "      <td>2.0</td>\n",
       "    </tr>\n",
       "  </tbody>\n",
       "</table>\n",
       "<p>133 rows × 8 columns</p>\n",
       "</div>"
      ],
      "text/plain": [
       "            mol_id                                  cannonical_smiles  \\\n",
       "0     CHEMBL187579             Cc1noc(C)c1CN1C(=O)C(=O)c2cc(C#N)ccc21   \n",
       "1     CHEMBL188487             O=C1C(=O)N(Cc2ccc(F)cc2Cl)c2ccc(I)cc21   \n",
       "2     CHEMBL185698            O=C1C(=O)N(CC2COc3ccccc3O2)c2ccc(I)cc21   \n",
       "3     CHEMBL426082                O=C1C(=O)N(Cc2cc3ccccc3s2)c2ccccc21   \n",
       "4     CHEMBL187717    O=C1C(=O)N(Cc2cc3ccccc3s2)c2c1cccc2[N+](=O)[O-]   \n",
       "..             ...                                                ...   \n",
       "128  CHEMBL2146517  COC(=O)[C@@]1(C)CCCc2c1ccc1c2C(=O)C(=O)c2c(C)c...   \n",
       "129   CHEMBL187460        C[C@H]1COC2=C1C(=O)C(=O)c1c2ccc2c1CCCC2(C)C   \n",
       "130   CHEMBL363535             Cc1coc2c1C(=O)C(=O)c1c-2ccc2c(C)cccc12   \n",
       "131   CHEMBL227075      Cc1cccc2c3c(ccc12)C1=C(C(=O)C3=O)[C@@H](C)CO1   \n",
       "132    CHEMBL45830             CC(C)C1=Cc2ccc3c(c2C(=O)C1=O)CCCC3(C)C   \n",
       "\n",
       "     standard_value bioactivity_class       MW   LogP  NumHDonors  \\\n",
       "0            7200.0      intermediate  281.271  1.893         0.0   \n",
       "1            9400.0      intermediate  415.589  3.813         0.0   \n",
       "2           13500.0          inactive  421.190  2.661         0.0   \n",
       "3           13110.0          inactive  293.347  3.631         0.0   \n",
       "4            2000.0      intermediate  338.344  3.539         0.0   \n",
       "..              ...               ...      ...    ...         ...   \n",
       "128         10600.0          inactive  338.359  3.401         0.0   \n",
       "129         10100.0          inactive  296.366  3.443         0.0   \n",
       "130         11500.0          inactive  276.291  4.096         0.0   \n",
       "131         10700.0          inactive  278.307  3.291         0.0   \n",
       "132         78900.0          inactive  282.383  4.105         0.0   \n",
       "\n",
       "     NumHAcceptors  \n",
       "0              5.0  \n",
       "1              2.0  \n",
       "2              4.0  \n",
       "3              3.0  \n",
       "4              5.0  \n",
       "..             ...  \n",
       "128            5.0  \n",
       "129            3.0  \n",
       "130            3.0  \n",
       "131            3.0  \n",
       "132            2.0  \n",
       "\n",
       "[133 rows x 8 columns]"
      ]
     },
     "execution_count": 26,
     "metadata": {},
     "output_type": "execute_result"
    }
   ],
   "source": [
    "df_combined"
   ]
  },
  {
   "cell_type": "markdown",
   "metadata": {},
   "source": [
    "### **Convert IC50 to pIC50**\n",
    "\n",
    "To allow the *IC50* data to be more uniformaly distributed, we will convert *IC50* to the negative logarithmic scale which is essentially  *-log10(IC50)*\n",
    "\n",
    "This custom function takes a DataFrame as input and then: \n",
    "- Takes the IC50 from the standard values column and convert it from nM to M by multiplying the value by $10^{-9}$\n",
    "- Take the molar value and apply -log10\n",
    "- Delete the standard_value column and create a new pIC50 column"
   ]
  },
  {
   "cell_type": "code",
   "execution_count": 27,
   "metadata": {},
   "outputs": [],
   "source": [
    "def cal_pIC50(data):\n",
    "    \n",
    "    pIC50 = []\n",
    "    \n",
    "    for i in data['standard_value_norm']:\n",
    "        #concert to mM:\n",
    "        molar = i*(10**-9)\n",
    "        # -log10(IC50)\n",
    "        pIC50_val = round(-np.log10(molar), 3)\n",
    "        pIC50.append(pIC50_val)\n",
    "    \n",
    "    # Add the calculated pIC50 data to the DataFrame\n",
    "    data['pIC50'] = pIC50\n",
    "    # drop the previous IC50 values\n",
    "    x = data.drop('standard_value_norm', axis='columns')\n",
    "    \n",
    "    \n",
    "    return x\n",
    "        "
   ]
  },
  {
   "cell_type": "markdown",
   "metadata": {},
   "source": [
    "----\n",
    "**Seeing the distrabity of standard IC50 values vs pIC50**"
   ]
  },
  {
   "cell_type": "code",
   "execution_count": 28,
   "metadata": {},
   "outputs": [
    {
     "data": {
      "image/png": "[encoded data removed]",
      "text/plain": [
       "<Figure size 640x480 with 1 Axes>"
      ]
     },
     "metadata": {},
     "output_type": "display_data"
    }
   ],
   "source": [
    "import matplotlib.pyplot as plt\n",
    "\n",
    "plt.scatter(x=df_combined['mol_id'], y=df_combined['standard_value'])\n",
    "plt.show()"
   ]
  },
  {
   "cell_type": "markdown",
   "metadata": {},
   "source": [
    "----"
   ]
  },
  {
   "cell_type": "markdown",
   "metadata": {},
   "source": [
    "Note: We need to make sure the  standard_values greater than 100,000,000 will be fixed at 100,000,000 otherwise these values will be negative when we convert them to pIC50 values. This is called normalisation"
   ]
  },
  {
   "cell_type": "code",
   "execution_count": 29,
   "metadata": {},
   "outputs": [
    {
     "data": {
      "text/plain": [
       "count        133.000000\n",
       "mean       85967.130075\n",
       "std       158897.319181\n",
       "min           50.000000\n",
       "25%        10100.000000\n",
       "50%        17500.000000\n",
       "75%        70000.000000\n",
       "max      1000000.000000\n",
       "Name: standard_value, dtype: float64"
      ]
     },
     "execution_count": 29,
     "metadata": {},
     "output_type": "execute_result"
    }
   ],
   "source": [
    "# Lets see if there are values greater than 100,000,000\n",
    "df_combined.standard_value.describe()"
   ]
  },
  {
   "cell_type": "code",
   "execution_count": 30,
   "metadata": {},
   "outputs": [],
   "source": [
    "# Normalise the standard values: \n",
    "def norm_values(data):\n",
    "    \n",
    "    norm = []\n",
    "    \n",
    "    for i in data['standard_value']:\n",
    "        if i > 100000000:\n",
    "            i = 100000000\n",
    "        norm.append(i)\n",
    "        \n",
    "    data['standard_value_norm'] = norm\n",
    "    x = data.drop('standard_value', axis='columns')\n",
    "    \n",
    "    \n",
    "    return x"
   ]
  },
  {
   "cell_type": "markdown",
   "metadata": {},
   "source": [
    "### **Create the Final processed data**\n",
    "\n",
    "Overview: \n",
    "- We normalised the data; by converting all values above 100,000,000 \n",
    "- We then converted all the IC50 to pIC50 values:"
   ]
  },
  {
   "cell_type": "code",
   "execution_count": 31,
   "metadata": {},
   "outputs": [],
   "source": [
    "df_norm = norm_values(df_combined)"
   ]
  },
  {
   "cell_type": "code",
   "execution_count": 32,
   "metadata": {},
   "outputs": [],
   "source": [
    "df_final = cal_pIC50(df_norm)"
   ]
  },
  {
   "cell_type": "code",
   "execution_count": 33,
   "metadata": {},
   "outputs": [
    {
     "data": {
      "text/html": [
       "<div>\n",
       "<style scoped>\n",
       "    .dataframe tbody tr th:only-of-type {\n",
       "        vertical-align: middle;\n",
       "    }\n",
       "\n",
       "    .dataframe tbody tr th {\n",
       "        vertical-align: top;\n",
       "    }\n",
       "\n",
       "    .dataframe thead th {\n",
       "        text-align: right;\n",
       "    }\n",
       "</style>\n",
       "<table border=\"1\" class=\"dataframe\">\n",
       "  <thead>\n",
       "    <tr style=\"text-align: right;\">\n",
       "      <th></th>\n",
       "      <th>mol_id</th>\n",
       "      <th>cannonical_smiles</th>\n",
       "      <th>bioactivity_class</th>\n",
       "      <th>MW</th>\n",
       "      <th>LogP</th>\n",
       "      <th>NumHDonors</th>\n",
       "      <th>NumHAcceptors</th>\n",
       "      <th>pIC50</th>\n",
       "    </tr>\n",
       "  </thead>\n",
       "  <tbody>\n",
       "    <tr>\n",
       "      <th>0</th>\n",
       "      <td>CHEMBL187579</td>\n",
       "      <td>Cc1noc(C)c1CN1C(=O)C(=O)c2cc(C#N)ccc21</td>\n",
       "      <td>intermediate</td>\n",
       "      <td>281.271</td>\n",
       "      <td>1.893</td>\n",
       "      <td>0.0</td>\n",
       "      <td>5.0</td>\n",
       "      <td>5.143</td>\n",
       "    </tr>\n",
       "    <tr>\n",
       "      <th>1</th>\n",
       "      <td>CHEMBL188487</td>\n",
       "      <td>O=C1C(=O)N(Cc2ccc(F)cc2Cl)c2ccc(I)cc21</td>\n",
       "      <td>intermediate</td>\n",
       "      <td>415.589</td>\n",
       "      <td>3.813</td>\n",
       "      <td>0.0</td>\n",
       "      <td>2.0</td>\n",
       "      <td>5.027</td>\n",
       "    </tr>\n",
       "    <tr>\n",
       "      <th>2</th>\n",
       "      <td>CHEMBL185698</td>\n",
       "      <td>O=C1C(=O)N(CC2COc3ccccc3O2)c2ccc(I)cc21</td>\n",
       "      <td>inactive</td>\n",
       "      <td>421.190</td>\n",
       "      <td>2.661</td>\n",
       "      <td>0.0</td>\n",
       "      <td>4.0</td>\n",
       "      <td>4.870</td>\n",
       "    </tr>\n",
       "    <tr>\n",
       "      <th>3</th>\n",
       "      <td>CHEMBL426082</td>\n",
       "      <td>O=C1C(=O)N(Cc2cc3ccccc3s2)c2ccccc21</td>\n",
       "      <td>inactive</td>\n",
       "      <td>293.347</td>\n",
       "      <td>3.631</td>\n",
       "      <td>0.0</td>\n",
       "      <td>3.0</td>\n",
       "      <td>4.882</td>\n",
       "    </tr>\n",
       "    <tr>\n",
       "      <th>4</th>\n",
       "      <td>CHEMBL187717</td>\n",
       "      <td>O=C1C(=O)N(Cc2cc3ccccc3s2)c2c1cccc2[N+](=O)[O-]</td>\n",
       "      <td>intermediate</td>\n",
       "      <td>338.344</td>\n",
       "      <td>3.539</td>\n",
       "      <td>0.0</td>\n",
       "      <td>5.0</td>\n",
       "      <td>5.699</td>\n",
       "    </tr>\n",
       "    <tr>\n",
       "      <th>...</th>\n",
       "      <td>...</td>\n",
       "      <td>...</td>\n",
       "      <td>...</td>\n",
       "      <td>...</td>\n",
       "      <td>...</td>\n",
       "      <td>...</td>\n",
       "      <td>...</td>\n",
       "      <td>...</td>\n",
       "    </tr>\n",
       "    <tr>\n",
       "      <th>128</th>\n",
       "      <td>CHEMBL2146517</td>\n",
       "      <td>COC(=O)[C@@]1(C)CCCc2c1ccc1c2C(=O)C(=O)c2c(C)c...</td>\n",
       "      <td>inactive</td>\n",
       "      <td>338.359</td>\n",
       "      <td>3.401</td>\n",
       "      <td>0.0</td>\n",
       "      <td>5.0</td>\n",
       "      <td>4.975</td>\n",
       "    </tr>\n",
       "    <tr>\n",
       "      <th>129</th>\n",
       "      <td>CHEMBL187460</td>\n",
       "      <td>C[C@H]1COC2=C1C(=O)C(=O)c1c2ccc2c1CCCC2(C)C</td>\n",
       "      <td>inactive</td>\n",
       "      <td>296.366</td>\n",
       "      <td>3.443</td>\n",
       "      <td>0.0</td>\n",
       "      <td>3.0</td>\n",
       "      <td>4.996</td>\n",
       "    </tr>\n",
       "    <tr>\n",
       "      <th>130</th>\n",
       "      <td>CHEMBL363535</td>\n",
       "      <td>Cc1coc2c1C(=O)C(=O)c1c-2ccc2c(C)cccc12</td>\n",
       "      <td>inactive</td>\n",
       "      <td>276.291</td>\n",
       "      <td>4.096</td>\n",
       "      <td>0.0</td>\n",
       "      <td>3.0</td>\n",
       "      <td>4.939</td>\n",
       "    </tr>\n",
       "    <tr>\n",
       "      <th>131</th>\n",
       "      <td>CHEMBL227075</td>\n",
       "      <td>Cc1cccc2c3c(ccc12)C1=C(C(=O)C3=O)[C@@H](C)CO1</td>\n",
       "      <td>inactive</td>\n",
       "      <td>278.307</td>\n",
       "      <td>3.291</td>\n",
       "      <td>0.0</td>\n",
       "      <td>3.0</td>\n",
       "      <td>4.971</td>\n",
       "    </tr>\n",
       "    <tr>\n",
       "      <th>132</th>\n",
       "      <td>CHEMBL45830</td>\n",
       "      <td>CC(C)C1=Cc2ccc3c(c2C(=O)C1=O)CCCC3(C)C</td>\n",
       "      <td>inactive</td>\n",
       "      <td>282.383</td>\n",
       "      <td>4.105</td>\n",
       "      <td>0.0</td>\n",
       "      <td>2.0</td>\n",
       "      <td>4.103</td>\n",
       "    </tr>\n",
       "  </tbody>\n",
       "</table>\n",
       "<p>133 rows × 8 columns</p>\n",
       "</div>"
      ],
      "text/plain": [
       "            mol_id                                  cannonical_smiles  \\\n",
       "0     CHEMBL187579             Cc1noc(C)c1CN1C(=O)C(=O)c2cc(C#N)ccc21   \n",
       "1     CHEMBL188487             O=C1C(=O)N(Cc2ccc(F)cc2Cl)c2ccc(I)cc21   \n",
       "2     CHEMBL185698            O=C1C(=O)N(CC2COc3ccccc3O2)c2ccc(I)cc21   \n",
       "3     CHEMBL426082                O=C1C(=O)N(Cc2cc3ccccc3s2)c2ccccc21   \n",
       "4     CHEMBL187717    O=C1C(=O)N(Cc2cc3ccccc3s2)c2c1cccc2[N+](=O)[O-]   \n",
       "..             ...                                                ...   \n",
       "128  CHEMBL2146517  COC(=O)[C@@]1(C)CCCc2c1ccc1c2C(=O)C(=O)c2c(C)c...   \n",
       "129   CHEMBL187460        C[C@H]1COC2=C1C(=O)C(=O)c1c2ccc2c1CCCC2(C)C   \n",
       "130   CHEMBL363535             Cc1coc2c1C(=O)C(=O)c1c-2ccc2c(C)cccc12   \n",
       "131   CHEMBL227075      Cc1cccc2c3c(ccc12)C1=C(C(=O)C3=O)[C@@H](C)CO1   \n",
       "132    CHEMBL45830             CC(C)C1=Cc2ccc3c(c2C(=O)C1=O)CCCC3(C)C   \n",
       "\n",
       "    bioactivity_class       MW   LogP  NumHDonors  NumHAcceptors  pIC50  \n",
       "0        intermediate  281.271  1.893         0.0            5.0  5.143  \n",
       "1        intermediate  415.589  3.813         0.0            2.0  5.027  \n",
       "2            inactive  421.190  2.661         0.0            4.0  4.870  \n",
       "3            inactive  293.347  3.631         0.0            3.0  4.882  \n",
       "4        intermediate  338.344  3.539         0.0            5.0  5.699  \n",
       "..                ...      ...    ...         ...            ...    ...  \n",
       "128          inactive  338.359  3.401         0.0            5.0  4.975  \n",
       "129          inactive  296.366  3.443         0.0            3.0  4.996  \n",
       "130          inactive  276.291  4.096         0.0            3.0  4.939  \n",
       "131          inactive  278.307  3.291         0.0            3.0  4.971  \n",
       "132          inactive  282.383  4.105         0.0            2.0  4.103  \n",
       "\n",
       "[133 rows x 8 columns]"
      ]
     },
     "execution_count": 33,
     "metadata": {},
     "output_type": "execute_result"
    }
   ],
   "source": [
    "df_final"
   ]
  },
  {
   "cell_type": "markdown",
   "metadata": {},
   "source": [
    "To make ease for comparision let's delete the intermediate class from the dataset"
   ]
  },
  {
   "cell_type": "code",
   "execution_count": 34,
   "metadata": {},
   "outputs": [],
   "source": [
    "substring = \"intermediate\"\n",
    "removed = df_final['bioactivity_class'].str.contains(substring)\n",
    "df_2Class = df_final[~removed]\n",
    "        "
   ]
  },
  {
   "cell_type": "code",
   "execution_count": 35,
   "metadata": {},
   "outputs": [
    {
     "data": {
      "text/html": [
       "<div>\n",
       "<style scoped>\n",
       "    .dataframe tbody tr th:only-of-type {\n",
       "        vertical-align: middle;\n",
       "    }\n",
       "\n",
       "    .dataframe tbody tr th {\n",
       "        vertical-align: top;\n",
       "    }\n",
       "\n",
       "    .dataframe thead th {\n",
       "        text-align: right;\n",
       "    }\n",
       "</style>\n",
       "<table border=\"1\" class=\"dataframe\">\n",
       "  <thead>\n",
       "    <tr style=\"text-align: right;\">\n",
       "      <th></th>\n",
       "      <th>mol_id</th>\n",
       "      <th>cannonical_smiles</th>\n",
       "      <th>bioactivity_class</th>\n",
       "      <th>MW</th>\n",
       "      <th>LogP</th>\n",
       "      <th>NumHDonors</th>\n",
       "      <th>NumHAcceptors</th>\n",
       "      <th>pIC50</th>\n",
       "    </tr>\n",
       "  </thead>\n",
       "  <tbody>\n",
       "    <tr>\n",
       "      <th>0</th>\n",
       "      <td>CHEMBL187579</td>\n",
       "      <td>Cc1noc(C)c1CN1C(=O)C(=O)c2cc(C#N)ccc21</td>\n",
       "      <td>intermediate</td>\n",
       "      <td>281.271</td>\n",
       "      <td>1.893</td>\n",
       "      <td>0.0</td>\n",
       "      <td>5.0</td>\n",
       "      <td>5.143</td>\n",
       "    </tr>\n",
       "    <tr>\n",
       "      <th>1</th>\n",
       "      <td>CHEMBL188487</td>\n",
       "      <td>O=C1C(=O)N(Cc2ccc(F)cc2Cl)c2ccc(I)cc21</td>\n",
       "      <td>intermediate</td>\n",
       "      <td>415.589</td>\n",
       "      <td>3.813</td>\n",
       "      <td>0.0</td>\n",
       "      <td>2.0</td>\n",
       "      <td>5.027</td>\n",
       "    </tr>\n",
       "    <tr>\n",
       "      <th>2</th>\n",
       "      <td>CHEMBL185698</td>\n",
       "      <td>O=C1C(=O)N(CC2COc3ccccc3O2)c2ccc(I)cc21</td>\n",
       "      <td>inactive</td>\n",
       "      <td>421.190</td>\n",
       "      <td>2.661</td>\n",
       "      <td>0.0</td>\n",
       "      <td>4.0</td>\n",
       "      <td>4.870</td>\n",
       "    </tr>\n",
       "    <tr>\n",
       "      <th>3</th>\n",
       "      <td>CHEMBL426082</td>\n",
       "      <td>O=C1C(=O)N(Cc2cc3ccccc3s2)c2ccccc21</td>\n",
       "      <td>inactive</td>\n",
       "      <td>293.347</td>\n",
       "      <td>3.631</td>\n",
       "      <td>0.0</td>\n",
       "      <td>3.0</td>\n",
       "      <td>4.882</td>\n",
       "    </tr>\n",
       "    <tr>\n",
       "      <th>4</th>\n",
       "      <td>CHEMBL187717</td>\n",
       "      <td>O=C1C(=O)N(Cc2cc3ccccc3s2)c2c1cccc2[N+](=O)[O-]</td>\n",
       "      <td>intermediate</td>\n",
       "      <td>338.344</td>\n",
       "      <td>3.539</td>\n",
       "      <td>0.0</td>\n",
       "      <td>5.0</td>\n",
       "      <td>5.699</td>\n",
       "    </tr>\n",
       "    <tr>\n",
       "      <th>...</th>\n",
       "      <td>...</td>\n",
       "      <td>...</td>\n",
       "      <td>...</td>\n",
       "      <td>...</td>\n",
       "      <td>...</td>\n",
       "      <td>...</td>\n",
       "      <td>...</td>\n",
       "      <td>...</td>\n",
       "    </tr>\n",
       "    <tr>\n",
       "      <th>128</th>\n",
       "      <td>CHEMBL2146517</td>\n",
       "      <td>COC(=O)[C@@]1(C)CCCc2c1ccc1c2C(=O)C(=O)c2c(C)c...</td>\n",
       "      <td>inactive</td>\n",
       "      <td>338.359</td>\n",
       "      <td>3.401</td>\n",
       "      <td>0.0</td>\n",
       "      <td>5.0</td>\n",
       "      <td>4.975</td>\n",
       "    </tr>\n",
       "    <tr>\n",
       "      <th>129</th>\n",
       "      <td>CHEMBL187460</td>\n",
       "      <td>C[C@H]1COC2=C1C(=O)C(=O)c1c2ccc2c1CCCC2(C)C</td>\n",
       "      <td>inactive</td>\n",
       "      <td>296.366</td>\n",
       "      <td>3.443</td>\n",
       "      <td>0.0</td>\n",
       "      <td>3.0</td>\n",
       "      <td>4.996</td>\n",
       "    </tr>\n",
       "    <tr>\n",
       "      <th>130</th>\n",
       "      <td>CHEMBL363535</td>\n",
       "      <td>Cc1coc2c1C(=O)C(=O)c1c-2ccc2c(C)cccc12</td>\n",
       "      <td>inactive</td>\n",
       "      <td>276.291</td>\n",
       "      <td>4.096</td>\n",
       "      <td>0.0</td>\n",
       "      <td>3.0</td>\n",
       "      <td>4.939</td>\n",
       "    </tr>\n",
       "    <tr>\n",
       "      <th>131</th>\n",
       "      <td>CHEMBL227075</td>\n",
       "      <td>Cc1cccc2c3c(ccc12)C1=C(C(=O)C3=O)[C@@H](C)CO1</td>\n",
       "      <td>inactive</td>\n",
       "      <td>278.307</td>\n",
       "      <td>3.291</td>\n",
       "      <td>0.0</td>\n",
       "      <td>3.0</td>\n",
       "      <td>4.971</td>\n",
       "    </tr>\n",
       "    <tr>\n",
       "      <th>132</th>\n",
       "      <td>CHEMBL45830</td>\n",
       "      <td>CC(C)C1=Cc2ccc3c(c2C(=O)C1=O)CCCC3(C)C</td>\n",
       "      <td>inactive</td>\n",
       "      <td>282.383</td>\n",
       "      <td>4.105</td>\n",
       "      <td>0.0</td>\n",
       "      <td>2.0</td>\n",
       "      <td>4.103</td>\n",
       "    </tr>\n",
       "  </tbody>\n",
       "</table>\n",
       "<p>133 rows × 8 columns</p>\n",
       "</div>"
      ],
      "text/plain": [
       "            mol_id                                  cannonical_smiles  \\\n",
       "0     CHEMBL187579             Cc1noc(C)c1CN1C(=O)C(=O)c2cc(C#N)ccc21   \n",
       "1     CHEMBL188487             O=C1C(=O)N(Cc2ccc(F)cc2Cl)c2ccc(I)cc21   \n",
       "2     CHEMBL185698            O=C1C(=O)N(CC2COc3ccccc3O2)c2ccc(I)cc21   \n",
       "3     CHEMBL426082                O=C1C(=O)N(Cc2cc3ccccc3s2)c2ccccc21   \n",
       "4     CHEMBL187717    O=C1C(=O)N(Cc2cc3ccccc3s2)c2c1cccc2[N+](=O)[O-]   \n",
       "..             ...                                                ...   \n",
       "128  CHEMBL2146517  COC(=O)[C@@]1(C)CCCc2c1ccc1c2C(=O)C(=O)c2c(C)c...   \n",
       "129   CHEMBL187460        C[C@H]1COC2=C1C(=O)C(=O)c1c2ccc2c1CCCC2(C)C   \n",
       "130   CHEMBL363535             Cc1coc2c1C(=O)C(=O)c1c-2ccc2c(C)cccc12   \n",
       "131   CHEMBL227075      Cc1cccc2c3c(ccc12)C1=C(C(=O)C3=O)[C@@H](C)CO1   \n",
       "132    CHEMBL45830             CC(C)C1=Cc2ccc3c(c2C(=O)C1=O)CCCC3(C)C   \n",
       "\n",
       "    bioactivity_class       MW   LogP  NumHDonors  NumHAcceptors  pIC50  \n",
       "0        intermediate  281.271  1.893         0.0            5.0  5.143  \n",
       "1        intermediate  415.589  3.813         0.0            2.0  5.027  \n",
       "2            inactive  421.190  2.661         0.0            4.0  4.870  \n",
       "3            inactive  293.347  3.631         0.0            3.0  4.882  \n",
       "4        intermediate  338.344  3.539         0.0            5.0  5.699  \n",
       "..                ...      ...    ...         ...            ...    ...  \n",
       "128          inactive  338.359  3.401         0.0            5.0  4.975  \n",
       "129          inactive  296.366  3.443         0.0            3.0  4.996  \n",
       "130          inactive  276.291  4.096         0.0            3.0  4.939  \n",
       "131          inactive  278.307  3.291         0.0            3.0  4.971  \n",
       "132          inactive  282.383  4.105         0.0            2.0  4.103  \n",
       "\n",
       "[133 rows x 8 columns]"
      ]
     },
     "execution_count": 35,
     "metadata": {},
     "output_type": "execute_result"
    }
   ],
   "source": [
    "# With intermediate bioactivity class\n",
    "df_final"
   ]
  },
  {
   "cell_type": "code",
   "execution_count": 36,
   "metadata": {},
   "outputs": [
    {
     "data": {
      "text/html": [
       "<div>\n",
       "<style scoped>\n",
       "    .dataframe tbody tr th:only-of-type {\n",
       "        vertical-align: middle;\n",
       "    }\n",
       "\n",
       "    .dataframe tbody tr th {\n",
       "        vertical-align: top;\n",
       "    }\n",
       "\n",
       "    .dataframe thead th {\n",
       "        text-align: right;\n",
       "    }\n",
       "</style>\n",
       "<table border=\"1\" class=\"dataframe\">\n",
       "  <thead>\n",
       "    <tr style=\"text-align: right;\">\n",
       "      <th></th>\n",
       "      <th>mol_id</th>\n",
       "      <th>cannonical_smiles</th>\n",
       "      <th>bioactivity_class</th>\n",
       "      <th>MW</th>\n",
       "      <th>LogP</th>\n",
       "      <th>NumHDonors</th>\n",
       "      <th>NumHAcceptors</th>\n",
       "      <th>pIC50</th>\n",
       "    </tr>\n",
       "  </thead>\n",
       "  <tbody>\n",
       "    <tr>\n",
       "      <th>2</th>\n",
       "      <td>CHEMBL185698</td>\n",
       "      <td>O=C1C(=O)N(CC2COc3ccccc3O2)c2ccc(I)cc21</td>\n",
       "      <td>inactive</td>\n",
       "      <td>421.190</td>\n",
       "      <td>2.661</td>\n",
       "      <td>0.0</td>\n",
       "      <td>4.0</td>\n",
       "      <td>4.870</td>\n",
       "    </tr>\n",
       "    <tr>\n",
       "      <th>3</th>\n",
       "      <td>CHEMBL426082</td>\n",
       "      <td>O=C1C(=O)N(Cc2cc3ccccc3s2)c2ccccc21</td>\n",
       "      <td>inactive</td>\n",
       "      <td>293.347</td>\n",
       "      <td>3.631</td>\n",
       "      <td>0.0</td>\n",
       "      <td>3.0</td>\n",
       "      <td>4.882</td>\n",
       "    </tr>\n",
       "    <tr>\n",
       "      <th>5</th>\n",
       "      <td>CHEMBL365134</td>\n",
       "      <td>O=C1C(=O)N(Cc2cc3ccccc3s2)c2c(Br)cccc21</td>\n",
       "      <td>active</td>\n",
       "      <td>372.243</td>\n",
       "      <td>4.393</td>\n",
       "      <td>0.0</td>\n",
       "      <td>3.0</td>\n",
       "      <td>6.009</td>\n",
       "    </tr>\n",
       "    <tr>\n",
       "      <th>7</th>\n",
       "      <td>CHEMBL190743</td>\n",
       "      <td>O=C1C(=O)N(Cc2cc3ccccc3s2)c2ccc(I)cc21</td>\n",
       "      <td>active</td>\n",
       "      <td>419.243</td>\n",
       "      <td>4.235</td>\n",
       "      <td>0.0</td>\n",
       "      <td>3.0</td>\n",
       "      <td>6.022</td>\n",
       "    </tr>\n",
       "    <tr>\n",
       "      <th>8</th>\n",
       "      <td>CHEMBL365469</td>\n",
       "      <td>O=C1C(=O)N(Cc2cc3ccccc3s2)c2cccc(Cl)c21</td>\n",
       "      <td>inactive</td>\n",
       "      <td>327.792</td>\n",
       "      <td>4.284</td>\n",
       "      <td>0.0</td>\n",
       "      <td>3.0</td>\n",
       "      <td>4.951</td>\n",
       "    </tr>\n",
       "    <tr>\n",
       "      <th>...</th>\n",
       "      <td>...</td>\n",
       "      <td>...</td>\n",
       "      <td>...</td>\n",
       "      <td>...</td>\n",
       "      <td>...</td>\n",
       "      <td>...</td>\n",
       "      <td>...</td>\n",
       "      <td>...</td>\n",
       "    </tr>\n",
       "    <tr>\n",
       "      <th>128</th>\n",
       "      <td>CHEMBL2146517</td>\n",
       "      <td>COC(=O)[C@@]1(C)CCCc2c1ccc1c2C(=O)C(=O)c2c(C)c...</td>\n",
       "      <td>inactive</td>\n",
       "      <td>338.359</td>\n",
       "      <td>3.401</td>\n",
       "      <td>0.0</td>\n",
       "      <td>5.0</td>\n",
       "      <td>4.975</td>\n",
       "    </tr>\n",
       "    <tr>\n",
       "      <th>129</th>\n",
       "      <td>CHEMBL187460</td>\n",
       "      <td>C[C@H]1COC2=C1C(=O)C(=O)c1c2ccc2c1CCCC2(C)C</td>\n",
       "      <td>inactive</td>\n",
       "      <td>296.366</td>\n",
       "      <td>3.443</td>\n",
       "      <td>0.0</td>\n",
       "      <td>3.0</td>\n",
       "      <td>4.996</td>\n",
       "    </tr>\n",
       "    <tr>\n",
       "      <th>130</th>\n",
       "      <td>CHEMBL363535</td>\n",
       "      <td>Cc1coc2c1C(=O)C(=O)c1c-2ccc2c(C)cccc12</td>\n",
       "      <td>inactive</td>\n",
       "      <td>276.291</td>\n",
       "      <td>4.096</td>\n",
       "      <td>0.0</td>\n",
       "      <td>3.0</td>\n",
       "      <td>4.939</td>\n",
       "    </tr>\n",
       "    <tr>\n",
       "      <th>131</th>\n",
       "      <td>CHEMBL227075</td>\n",
       "      <td>Cc1cccc2c3c(ccc12)C1=C(C(=O)C3=O)[C@@H](C)CO1</td>\n",
       "      <td>inactive</td>\n",
       "      <td>278.307</td>\n",
       "      <td>3.291</td>\n",
       "      <td>0.0</td>\n",
       "      <td>3.0</td>\n",
       "      <td>4.971</td>\n",
       "    </tr>\n",
       "    <tr>\n",
       "      <th>132</th>\n",
       "      <td>CHEMBL45830</td>\n",
       "      <td>CC(C)C1=Cc2ccc3c(c2C(=O)C1=O)CCCC3(C)C</td>\n",
       "      <td>inactive</td>\n",
       "      <td>282.383</td>\n",
       "      <td>4.105</td>\n",
       "      <td>0.0</td>\n",
       "      <td>2.0</td>\n",
       "      <td>4.103</td>\n",
       "    </tr>\n",
       "  </tbody>\n",
       "</table>\n",
       "<p>115 rows × 8 columns</p>\n",
       "</div>"
      ],
      "text/plain": [
       "            mol_id                                  cannonical_smiles  \\\n",
       "2     CHEMBL185698            O=C1C(=O)N(CC2COc3ccccc3O2)c2ccc(I)cc21   \n",
       "3     CHEMBL426082                O=C1C(=O)N(Cc2cc3ccccc3s2)c2ccccc21   \n",
       "5     CHEMBL365134            O=C1C(=O)N(Cc2cc3ccccc3s2)c2c(Br)cccc21   \n",
       "7     CHEMBL190743             O=C1C(=O)N(Cc2cc3ccccc3s2)c2ccc(I)cc21   \n",
       "8     CHEMBL365469            O=C1C(=O)N(Cc2cc3ccccc3s2)c2cccc(Cl)c21   \n",
       "..             ...                                                ...   \n",
       "128  CHEMBL2146517  COC(=O)[C@@]1(C)CCCc2c1ccc1c2C(=O)C(=O)c2c(C)c...   \n",
       "129   CHEMBL187460        C[C@H]1COC2=C1C(=O)C(=O)c1c2ccc2c1CCCC2(C)C   \n",
       "130   CHEMBL363535             Cc1coc2c1C(=O)C(=O)c1c-2ccc2c(C)cccc12   \n",
       "131   CHEMBL227075      Cc1cccc2c3c(ccc12)C1=C(C(=O)C3=O)[C@@H](C)CO1   \n",
       "132    CHEMBL45830             CC(C)C1=Cc2ccc3c(c2C(=O)C1=O)CCCC3(C)C   \n",
       "\n",
       "    bioactivity_class       MW   LogP  NumHDonors  NumHAcceptors  pIC50  \n",
       "2            inactive  421.190  2.661         0.0            4.0  4.870  \n",
       "3            inactive  293.347  3.631         0.0            3.0  4.882  \n",
       "5              active  372.243  4.393         0.0            3.0  6.009  \n",
       "7              active  419.243  4.235         0.0            3.0  6.022  \n",
       "8            inactive  327.792  4.284         0.0            3.0  4.951  \n",
       "..                ...      ...    ...         ...            ...    ...  \n",
       "128          inactive  338.359  3.401         0.0            5.0  4.975  \n",
       "129          inactive  296.366  3.443         0.0            3.0  4.996  \n",
       "130          inactive  276.291  4.096         0.0            3.0  4.939  \n",
       "131          inactive  278.307  3.291         0.0            3.0  4.971  \n",
       "132          inactive  282.383  4.105         0.0            2.0  4.103  \n",
       "\n",
       "[115 rows x 8 columns]"
      ]
     },
     "execution_count": 36,
     "metadata": {},
     "output_type": "execute_result"
    }
   ],
   "source": [
    "# Intermediate Bioactivity class removed\n",
    "df_2Class"
   ]
  },
  {
   "cell_type": "code",
   "execution_count": 37,
   "metadata": {},
   "outputs": [],
   "source": [
    "df_2Class.to_csv('data/df_2Class.csv', index=False)"
   ]
  },
  {
   "cell_type": "markdown",
   "metadata": {},
   "source": [
    "----"
   ]
  },
  {
   "cell_type": "markdown",
   "metadata": {},
   "source": [
    "## **Expliratory Data Analysis**\n",
    "\n",
    "Here we will be exploring a *chemical space analysis* via the *Lipinski's descriptors* \n"
   ]
  },
  {
   "cell_type": "markdown",
   "metadata": {},
   "source": [
    "### **Import Libraries**"
   ]
  },
  {
   "cell_type": "code",
   "execution_count": 38,
   "metadata": {},
   "outputs": [],
   "source": [
    "import seaborn as sns\n",
    "sns.set(style='ticks')\n",
    "import matplotlib.pyplot as plt"
   ]
  },
  {
   "cell_type": "markdown",
   "metadata": {},
   "source": [
    "### **Frequency Plots of the two Bioactivity Classes**\n"
   ]
  },
  {
   "cell_type": "code",
   "execution_count": 39,
   "metadata": {},
   "outputs": [
    {
     "data": {
      "image/png": "[encoded data removed]",
      "text/plain": [
       "<Figure size 350x350 with 1 Axes>"
      ]
     },
     "metadata": {},
     "output_type": "display_data"
    }
   ],
   "source": [
    "plt.figure(figsize=(3.5, 3.5))\n",
    "\n",
    "# Create a frequency plot: \n",
    "sns.countplot(x='bioactivity_class', data=df_2Class, edgecolor='black')\n",
    "\n",
    "# Set Lables:\n",
    "plt.xlabel('Bioactivity class', fontsize=14, fontweight='bold')\n",
    "plt.ylabel('Frequence', fontsize=14, fontweight='bold')\n",
    "\n",
    "# save the frequency plot: \n",
    "plt.savefig('data/bioactivity_frequencyplot.pdf')"
   ]
  },
  {
   "cell_type": "markdown",
   "metadata": {},
   "source": [
    "### **Scatter Plot of MW vs LogP**"
   ]
  },
  {
   "cell_type": "code",
   "execution_count": 40,
   "metadata": {},
   "outputs": [
    {
     "data": {
      "image/png": "[encoded data removed]",
      "text/plain": [
       "<Figure size 350x350 with 1 Axes>"
      ]
     },
     "metadata": {},
     "output_type": "display_data"
    }
   ],
   "source": [
    "plt.figure(figsize=(3.5, 3.5))\n",
    "\n",
    "# Draw a scatter plot where the color of each point is dictated by the bioactivity class, the size by the pIC50\n",
    "sns.scatterplot(x='MW', y='LogP', data=df_2Class, hue='bioactivity_class', size='pIC50', edgecolor='white', alpha=1) # alpha is the transparency of the dots, 1 is opaque, 0 is complteley transparent\n",
    "\n",
    "plt.xlabel('MW', fontsize=14, fontweight='bold')\n",
    "plt.ylabel('logP', fontsize=14, fontweight='bold')\n",
    "\n",
    "# bbox_to_anchor is used to position the legend box, \n",
    "# borderaxespad is the padding between the legend and the plot\n",
    "plt.legend(bbox_to_anchor=(1.05, 1), loc=2, borderaxespad=0)\n",
    "\n",
    "# Save the scatter plot:\n",
    "plt.savefig('data/Mw_LogP_scatter.pdf')\n"
   ]
  },
  {
   "cell_type": "markdown",
   "metadata": {},
   "source": [
    "### **Box Plots**"
   ]
  },
  {
   "cell_type": "markdown",
   "metadata": {},
   "source": [
    "**Comparing Bioactivity with pIC50 values**\n",
    "\n",
    "(higher pIC50 will be more potent)"
   ]
  },
  {
   "cell_type": "code",
   "execution_count": 41,
   "metadata": {},
   "outputs": [
    {
     "data": {
      "image/png": "[encoded data removed]",
      "text/plain": [
       "<Figure size 350x350 with 1 Axes>"
      ]
     },
     "metadata": {},
     "output_type": "display_data"
    }
   ],
   "source": [
    "plt.figure(figsize=(3.5,3.5))\n",
    "\n",
    "palette = ['b', 'g']\n",
    "sns.boxplot(x='bioactivity_class', y='pIC50', data=df_2Class, hue='bioactivity_class', palette=palette, legend=False)\n",
    "plt.xlabel('Bioactivity class', fontsize=14, fontweight='bold')\n",
    "plt.ylabel('pIC50 value', fontsize=14, fontweight='bold')\n",
    "\n",
    "# Save the Box plot\n",
    "plt.savefig('data/bioactivity_pIC50_box.pdf')"
   ]
  },
  {
   "cell_type": "markdown",
   "metadata": {},
   "source": [
    "### **Statistical Analysis using Mann-Whitney U test**"
   ]
  },
  {
   "cell_type": "code",
   "execution_count": 42,
   "metadata": {},
   "outputs": [],
   "source": [
    "def mannwhitney(descriptor, data, verbose=False):\n",
    "    from numpy.random import seed\n",
    "    from numpy.random import randn\n",
    "    from scipy.stats import mannwhitneyu\n",
    "    \n",
    "    # seed the random number generator: \n",
    "    seed(1)\n",
    "    \n",
    "    # activate and inactive:\n",
    "    selection = [descriptor, 'bioactivity_class']\n",
    "    df = data[selection]\n",
    "    active = df[df.bioactivity_class == 'active']\n",
    "    active = active[descriptor]\n",
    "    inactive = df[df.bioactivity_class == 'inactive']\n",
    "    inactive = inactive[descriptor]\n",
    "    \n",
    "    # compare samples:\n",
    "    stat, p = mannwhitneyu(active, inactive)\n",
    "    if verbose:\n",
    "        print('Statistics=%.3f, p=%.3f' % (stat, p))\n",
    "    \n",
    "    \n",
    "    # interpret: \n",
    "    alpha = 0.05\n",
    "    if p > alpha:\n",
    "        interpretation = 'Same distribution (fail to reject Null Hypothesis)'\n",
    "    else:\n",
    "        interpretation = 'Different distribution (reject Null Hypothesis)'\n",
    "    \n",
    "    results = pd.DataFrame({'Descriptor': descriptor,\n",
    "                            'Statistic': stat,\n",
    "                            'p_value': p,\n",
    "                            'alpha value': alpha,\n",
    "                            'Interpretation': interpretation}, index=[0])\n",
    "    filename = 'mannwhitneyu_' + descriptor + '.csv'\n",
    "    results.to_csv(filename)\n",
    "    \n",
    "    return results\n",
    "    \n",
    "    "
   ]
  },
  {
   "cell_type": "markdown",
   "metadata": {},
   "source": [
    "**For pIC50:**"
   ]
  },
  {
   "cell_type": "code",
   "execution_count": 72,
   "metadata": {},
   "outputs": [
    {
     "name": "stdout",
     "output_type": "stream",
     "text": [
      "Statistics=1500.000, p=0.000\n"
     ]
    }
   ],
   "source": [
    "mann_pIC50 = mannwhitney('pIC50', df_2Class, True)"
   ]
  },
  {
   "cell_type": "markdown",
   "metadata": {},
   "source": [
    "**For MW**"
   ]
  },
  {
   "cell_type": "code",
   "execution_count": 53,
   "metadata": {},
   "outputs": [
    {
     "data": {
      "image/png": "[encoded data removed]",
      "text/plain": [
       "<Figure size 350x350 with 1 Axes>"
      ]
     },
     "metadata": {},
     "output_type": "display_data"
    }
   ],
   "source": [
    "plt.figure(figsize=(3.5,3.5))\n",
    "\n",
    "palette = ['b', 'r']\n",
    "sns.boxplot(x='bioactivity_class', y='MW', data=df_2Class, hue='bioactivity_class', palette=palette, legend=False)\n",
    "plt.xlabel('Bioactivity class', fontsize=14, fontweight='bold')\n",
    "plt.ylabel('MW', fontsize=14, fontweight='bold')\n",
    " \n",
    "plt.savefig('data/Images/MW_box.pdf')"
   ]
  },
  {
   "cell_type": "code",
   "execution_count": 65,
   "metadata": {},
   "outputs": [],
   "source": [
    "mann_MW = mannwhitney('MW', df_2Class)"
   ]
  },
  {
   "cell_type": "markdown",
   "metadata": {},
   "source": [
    "**For LogP**"
   ]
  },
  {
   "cell_type": "code",
   "execution_count": 54,
   "metadata": {},
   "outputs": [
    {
     "data": {
      "image/png": "[encoded data removed]",
      "text/plain": [
       "<Figure size 350x350 with 1 Axes>"
      ]
     },
     "metadata": {},
     "output_type": "display_data"
    }
   ],
   "source": [
    "plt.figure(figsize=(3.5,3.5))\n",
    "\n",
    "palette = ['plum', 'r']\n",
    "sns.boxplot(x='bioactivity_class', y='LogP', data= df_2Class, hue='bioactivity_class', palette=palette)\n",
    "plt.xlabel('Bioactivity class', fontsize=14, fontweight='bold')\n",
    "plt.ylabel('LogP', fontsize=14, fontweight='bold')\n",
    "\n",
    "plt.savefig('data/Images/LogP_box.pdf')\n"
   ]
  },
  {
   "cell_type": "code",
   "execution_count": 61,
   "metadata": {},
   "outputs": [],
   "source": [
    "mann_logP = mannwhitney('LogP', df_2Class)"
   ]
  },
  {
   "cell_type": "markdown",
   "metadata": {},
   "source": [
    "**For NumHDonors**"
   ]
  },
  {
   "cell_type": "code",
   "execution_count": 56,
   "metadata": {},
   "outputs": [
    {
     "data": {
      "image/png": "[encoded data removed]",
      "text/plain": [
       "<Figure size 350x350 with 1 Axes>"
      ]
     },
     "metadata": {},
     "output_type": "display_data"
    }
   ],
   "source": [
    "plt.figure(figsize=(3.5,3.5))\n",
    "\n",
    "palette = ['r', 'b']\n",
    "sns.boxplot(x='bioactivity_class', y='NumHDonors', data= df_2Class, hue='bioactivity_class', palette=palette)\n",
    "plt.xlabel('Bioactivity class', fontsize=14, fontweight='bold')\n",
    "plt.ylabel('Num of H Donors', fontsize=14, fontweight='bold')\n",
    "\n",
    "plt.savefig('data/Images/NumHDonors_box.pdf')"
   ]
  },
  {
   "cell_type": "code",
   "execution_count": 63,
   "metadata": {},
   "outputs": [],
   "source": [
    "mann_NumHDonors = mannwhitney('NumHDonors', df_2Class)"
   ]
  },
  {
   "cell_type": "markdown",
   "metadata": {},
   "source": [
    "**For NumHAcceptors**"
   ]
  },
  {
   "cell_type": "code",
   "execution_count": 58,
   "metadata": {},
   "outputs": [
    {
     "data": {
      "image/png": "[encoded data removed]",
      "text/plain": [
       "<Figure size 350x350 with 1 Axes>"
      ]
     },
     "metadata": {},
     "output_type": "display_data"
    }
   ],
   "source": [
    "plt.figure(figsize=(3.5,3.5))\n",
    "\n",
    "palette = ['plum', 'r']\n",
    "sns.boxplot(x='bioactivity_class', y='NumHAcceptors', data= df_2Class, hue='bioactivity_class', palette=palette)\n",
    "plt.xlabel('Bioactivity class', fontsize=14, fontweight='bold')\n",
    "plt.ylabel('Num of H Acceptors', fontsize=14, fontweight='bold')\n",
    "\n",
    "plt.savefig('data/Images/NumHAcceptors_box.pdf')"
   ]
  },
  {
   "cell_type": "code",
   "execution_count": 64,
   "metadata": {},
   "outputs": [],
   "source": [
    "mann_NumHAcceptors = mannwhitney('NumHAcceptors', df_2Class)"
   ]
  },
  {
   "cell_type": "code",
   "execution_count": 73,
   "metadata": {},
   "outputs": [],
   "source": [
    "## Combine the data Frames for the various Mann_Whitney tests preformed:\n",
    "\n",
    "list_df = [mann_MW, mann_pIC50, mann_logP, mann_NumHDonors, mann_NumHAcceptors]\n",
    "mann_df = pd.concat(list_df, axis=0)"
   ]
  },
  {
   "cell_type": "code",
   "execution_count": 79,
   "metadata": {},
   "outputs": [],
   "source": [
    "mann_df.to_csv('data/MannU_descriptors.csv', index=False)"
   ]
  },
  {
   "cell_type": "code",
   "execution_count": 78,
   "metadata": {},
   "outputs": [
    {
     "data": {
      "text/html": [
       "<div>\n",
       "<style scoped>\n",
       "    .dataframe tbody tr th:only-of-type {\n",
       "        vertical-align: middle;\n",
       "    }\n",
       "\n",
       "    .dataframe tbody tr th {\n",
       "        vertical-align: top;\n",
       "    }\n",
       "\n",
       "    .dataframe thead th {\n",
       "        text-align: right;\n",
       "    }\n",
       "</style>\n",
       "<table border=\"1\" class=\"dataframe\">\n",
       "  <thead>\n",
       "    <tr style=\"text-align: right;\">\n",
       "      <th></th>\n",
       "      <th>Descriptor</th>\n",
       "      <th>Statistic</th>\n",
       "      <th>p_value</th>\n",
       "      <th>alpha value</th>\n",
       "      <th>Interpretation</th>\n",
       "    </tr>\n",
       "  </thead>\n",
       "  <tbody>\n",
       "    <tr>\n",
       "      <th>0</th>\n",
       "      <td>MW</td>\n",
       "      <td>402.5</td>\n",
       "      <td>3.950001e-03</td>\n",
       "      <td>0.05</td>\n",
       "      <td>Different distribution (reject Null Hypothesis)</td>\n",
       "    </tr>\n",
       "    <tr>\n",
       "      <th>0</th>\n",
       "      <td>pIC50</td>\n",
       "      <td>1500.0</td>\n",
       "      <td>4.798746e-10</td>\n",
       "      <td>0.05</td>\n",
       "      <td>Different distribution (reject Null Hypothesis)</td>\n",
       "    </tr>\n",
       "    <tr>\n",
       "      <th>0</th>\n",
       "      <td>LogP</td>\n",
       "      <td>704.5</td>\n",
       "      <td>7.085807e-01</td>\n",
       "      <td>0.05</td>\n",
       "      <td>Same distribution (fail to reject Null Hypothe...</td>\n",
       "    </tr>\n",
       "    <tr>\n",
       "      <th>0</th>\n",
       "      <td>NumHDonors</td>\n",
       "      <td>296.5</td>\n",
       "      <td>6.946295e-05</td>\n",
       "      <td>0.05</td>\n",
       "      <td>Different distribution (reject Null Hypothesis)</td>\n",
       "    </tr>\n",
       "    <tr>\n",
       "      <th>0</th>\n",
       "      <td>NumHAcceptors</td>\n",
       "      <td>411.5</td>\n",
       "      <td>4.450604e-03</td>\n",
       "      <td>0.05</td>\n",
       "      <td>Different distribution (reject Null Hypothesis)</td>\n",
       "    </tr>\n",
       "  </tbody>\n",
       "</table>\n",
       "</div>"
      ],
      "text/plain": [
       "      Descriptor  Statistic       p_value  alpha value  \\\n",
       "0             MW      402.5  3.950001e-03         0.05   \n",
       "0          pIC50     1500.0  4.798746e-10         0.05   \n",
       "0           LogP      704.5  7.085807e-01         0.05   \n",
       "0     NumHDonors      296.5  6.946295e-05         0.05   \n",
       "0  NumHAcceptors      411.5  4.450604e-03         0.05   \n",
       "\n",
       "                                      Interpretation  \n",
       "0    Different distribution (reject Null Hypothesis)  \n",
       "0    Different distribution (reject Null Hypothesis)  \n",
       "0  Same distribution (fail to reject Null Hypothe...  \n",
       "0    Different distribution (reject Null Hypothesis)  \n",
       "0    Different distribution (reject Null Hypothesis)  "
      ]
     },
     "execution_count": 78,
     "metadata": {},
     "output_type": "execute_result"
    }
   ],
   "source": [
    "mann_df"
   ]
  },
  {
   "cell_type": "markdown",
   "metadata": {},
   "source": [
    "Of the 4 Lipinskis's Descriptors, 3 (MW, NumHDonors, NumHAcceptors) showed significance difference btween the active and inactive states of the drug "
   ]
  },
  {
   "cell_type": "code",
   "execution_count": null,
   "metadata": {},
   "outputs": [],
   "source": [
    "! zip -r data.zip . -i data/*.csv"
   ]
  },
  {
   "cell_type": "code",
   "execution_count": null,
   "metadata": {},
   "outputs": [],
   "source": [
    "! zip -r images.zip . -i data/Images/*.pdf"
   ]
  },
  {
   "cell_type": "code",
   "execution_count": null,
   "metadata": {},
   "outputs": [],
   "source": [
    "! zip -r results.zip . -i data.zip images.zip"
   ]
  },
  {
   "cell_type": "code",
   "execution_count": 83,
   "metadata": {},
   "outputs": [],
   "source": [
    "! rm -f images.zip data.zip"
   ]
  }
 ],
 "metadata": {
  "kernelspec": {
   "display_name": "ddml",
   "language": "python",
   "name": "python3"
  },
  "language_info": {
   "codemirror_mode": {
    "name": "ipython",
    "version": 3
   },
   "file_extension": ".py",
   "mimetype": "text/x-python",
   "name": "python",
   "nbconvert_exporter": "python",
   "pygments_lexer": "ipython3",
   "version": "3.12.2"
  }
 },
 "nbformat": 4,
 "nbformat_minor": 2
}
