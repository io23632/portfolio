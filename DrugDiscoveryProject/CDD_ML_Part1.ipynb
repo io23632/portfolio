{
 "cells": [
  {
   "cell_type": "markdown",
   "metadata": {},
   "source": [
    "# **Compurational Drug Discovery [Part 1]: Downloading Bioactivity Data**\n"
   ]
  },
  {
   "cell_type": "markdown",
   "metadata": {},
   "source": [
    "Hamza Ahmed\n",
    "\n",
    "---"
   ]
  },
  {
   "cell_type": "markdown",
   "metadata": {},
   "source": [
    "### **Install Libraries**"
   ]
  },
  {
   "cell_type": "code",
   "execution_count": null,
   "metadata": {},
   "outputs": [],
   "source": [
    "\n",
    "# Install the chembl data base\n",
    "! pip install chembl_webresource_client"
   ]
  },
  {
   "cell_type": "code",
   "execution_count": null,
   "metadata": {},
   "outputs": [],
   "source": [
    "import pandas as pd\n",
    "from chembl_webresource_client.new_client import new_client"
   ]
  },
  {
   "cell_type": "markdown",
   "metadata": {},
   "source": [
    "### **Search for Target Proteins**"
   ]
  },
  {
   "cell_type": "code",
   "execution_count": null,
   "metadata": {},
   "outputs": [],
   "source": [
    "\"\"\" Searching for coronavirus \"\"\"\n",
    "\n",
    "# intialise the newclinent object\n",
    "target = new_client.target \n",
    "# Using the new clinet object search coronavirus, this will return list of dictionaries where each dictionary contains information about the target for coronavirus\n",
    "target_query_coronavirus = target.search(\"coronavirus\") \n",
    "# Convert the dictionaries into a pandas data frame\n",
    "targets_coronavirus = pd.DataFrame.from_dict(target_query_coronavirus)\n",
    "# display the data frame\n",
    "targets_coronavirus"
   ]
  },
  {
   "cell_type": "markdown",
   "metadata": {},
   "source": [
    "### **Select and retrieve bioactivity data for *SARS coronavirus 3C-like proteinase* (sixth entry)**"
   ]
  },
  {
   "cell_type": "markdown",
   "metadata": {},
   "source": [
    "The 3C-like protease is an attractive target for antiviral intervention due to its essential role in processing polyproteins translated from viral RNA. The structure of 3C protease is conserved across the variations of COVID virus\n",
    "We will assign the 6th entry (which corresponds to the target protein: *coronavirus 3C-like proteinase*) to the selected_target variable"
   ]
  },
  {
   "cell_type": "code",
   "execution_count": null,
   "metadata": {},
   "outputs": [],
   "source": [
    "selected_target = targets_coronavirus.target_chembl_id[6]\n",
    "selected_target"
   ]
  },
  {
   "cell_type": "markdown",
   "metadata": {},
   "source": [
    "Here we will only retrieve the bioactivity data of the *coronavirus 3C-like proteinase* (CHEMBL3927) that are reported as $IC{50}$ values in nM (nanomolar) unit. IC50 is a quantative measure to see how much of a inhibitory substance (drug) is needed to inhibit a biological compound in vitro by 50%. "
   ]
  },
  {
   "cell_type": "code",
   "execution_count": null,
   "metadata": {},
   "outputs": [],
   "source": [
    "activity = new_client.activity\n",
    "# For the selected target protien (3C-protienase) store the IC50 values in a variable \n",
    "res = activity.filter(target_chembl_id=selected_target).filter(standard_type=\"IC50\")\n",
    "df = pd.DataFrame.from_dict(res)\n",
    "df.head(3)"
   ]
  },
  {
   "cell_type": "markdown",
   "metadata": {},
   "source": [
    "The potency of a drug is the *value* columb of the previous cell's output. The lower the value the less of the drug is needed to inhibit the target protein's activity by 50%"
   ]
  },
  {
   "cell_type": "markdown",
   "metadata": {},
   "source": [
    "### **Saving the Data to csv format**"
   ]
  },
  {
   "cell_type": "markdown",
   "metadata": {},
   "source": [
    "Let's now save the bioactivity of our selected molecules to a suitable csv format"
   ]
  },
  {
   "cell_type": "code",
   "execution_count": 27,
   "metadata": {},
   "outputs": [],
   "source": [
    "# Index set to false prevents the index number appearing in the resulting csv file\n",
    "df.to_csv('3C-proteinase_data.csv', index=False)"
   ]
  },
  {
   "cell_type": "code",
   "execution_count": null,
   "metadata": {},
   "outputs": [],
   "source": [
    "# Here we are making a data directory to put all our data into\n",
    "! mkdir data"
   ]
  },
  {
   "cell_type": "code",
   "execution_count": null,
   "metadata": {},
   "outputs": [],
   "source": [
    "! mv 3C-proteinase_data.csv data/"
   ]
  },
  {
   "cell_type": "code",
   "execution_count": null,
   "metadata": {},
   "outputs": [],
   "source": [
    "! ls -l data/3C-proteinase_data.csv"
   ]
  },
  {
   "cell_type": "markdown",
   "metadata": {},
   "source": [
    "## **PreProcessing**"
   ]
  },
  {
   "cell_type": "markdown",
   "metadata": {},
   "source": [
    "### *Hangle Missing data*\n",
    "\n",
    "if any compounds have missing value for the standard_Value column then drop it"
   ]
  },
  {
   "cell_type": "code",
   "execution_count": null,
   "metadata": {},
   "outputs": [],
   "source": [
    "# drops all columns with a missing standard value \n",
    "df2 = df[df.standard_value.notna()]\n",
    "df2"
   ]
  },
  {
   "cell_type": "markdown",
   "metadata": {},
   "source": [
    "### *Labelling compounds as either being active, inactive or intermediate*\n",
    "\n",
    "For the purposes of training a machine learning model later on, we will label compounds as active, inactive or intermediate. \n",
    "- Compounds with IC50 value of less than `1000 mM` will be labelled **active**\n",
    "- Compounds with IC50 value between `1000 to 10,000 mM` will be labelled **intermediate**\n",
    "- Compounds with IC50 value more then `10,000` will be labelled **inactive**"
   ]
  },
  {
   "cell_type": "code",
   "execution_count": 39,
   "metadata": {},
   "outputs": [],
   "source": [
    "bioactivity_class = []\n",
    "for i in df2.standard_value:\n",
    "    if float(i) > 10000:\n",
    "        bioactivity_class.append(\"inactive\")\n",
    "    elif float(i) <= 1000:\n",
    "        bioactivity_class.append(\"active\")\n",
    "    else:\n",
    "        bioactivity_class.append(\"intermediate\")"
   ]
  },
  {
   "cell_type": "code",
   "execution_count": 40,
   "metadata": {},
   "outputs": [],
   "source": [
    "# Iterate over the molacule id list and add to an array\n",
    "mol_id = []\n",
    "for i in df2.molecule_chembl_id:\n",
    "    mol_id.append(i)"
   ]
  },
  {
   "cell_type": "code",
   "execution_count": 43,
   "metadata": {},
   "outputs": [],
   "source": [
    "# iterate over the canonical_smiles\n",
    "smiles = []\n",
    "for i in df2.canonical_smiles:\n",
    "    smiles.append(i)"
   ]
  },
  {
   "cell_type": "code",
   "execution_count": 44,
   "metadata": {},
   "outputs": [],
   "source": [
    "# iterate over the standard value\n",
    "standard_value = []\n",
    "for i in df2.standard_value:\n",
    "    standard_value.append(i)"
   ]
  },
  {
   "cell_type": "code",
   "execution_count": null,
   "metadata": {},
   "outputs": [],
   "source": [
    "# Combine into a single data frame: \n",
    "data_tuples = list(zip(mol_id, smiles, standard_value, bioactivity_class))\n",
    "df3 = pd.DataFrame(data_tuples, columns=['mol_id', 'structure', 'IC50_values', 'bioactivity_class'])"
   ]
  },
  {
   "cell_type": "code",
   "execution_count": 60,
   "metadata": {},
   "outputs": [],
   "source": [
    "# Save the data as a csv file\n",
    "df3.to_csv('data/3C-proteinase_processed_date.csv', index=False)"
   ]
  }
 ],
 "metadata": {
  "kernelspec": {
   "display_name": "ddml",
   "language": "python",
   "name": "python3"
  },
  "language_info": {
   "codemirror_mode": {
    "name": "ipython",
    "version": 3
   },
   "file_extension": ".py",
   "mimetype": "text/x-python",
   "name": "python",
   "nbconvert_exporter": "python",
   "pygments_lexer": "ipython3",
   "version": "3.12.4"
  }
 },
 "nbformat": 4,
 "nbformat_minor": 2
}
