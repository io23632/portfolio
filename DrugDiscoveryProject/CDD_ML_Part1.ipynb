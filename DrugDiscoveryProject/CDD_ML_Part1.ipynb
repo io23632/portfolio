{
 "cells": [
  {
   "cell_type": "markdown",
   "metadata": {},
   "source": [
    "# **Compurational Drug Discovery [Part 1]: Downloading Bioactivity Data**\n",
    "\n",
    "---"
   ]
  }
 ],
 "metadata": {
  "language_info": {
   "name": "python"
  }
 },
 "nbformat": 4,
 "nbformat_minor": 2
}
